{
 "cells": [
  {
   "cell_type": "code",
   "execution_count": null,
   "metadata": {},
   "outputs": [],
   "source": [
    "import requests\n",
    "import os\n",
    "import json\n",
    "\n",
    "\n",
    "# Declare constants (change these as needed)\n",
    "DATASET = \"BGU\" # BGU, Fujitsu-1, Fujitsu-2\n",
    "REQUESTED_FILE_NAME = \"results.txt\" # \"results.txt\", \"map_all_targets.html\", \"map_cdgeb-file-01_estimated.html\", ...\n",
    "\n",
    "\n",
    "# Other constants\n",
    "REST_URL = \"https://cdgeo.net\"\n",
    "\n",
    "FILE_MEASUREMENTS = os.path.join(DATASET, \"measurements.csv\")\n",
    "FILE_SERVERS = os.path.join(DATASET, \"servers.csv\")\n",
    "FILE_SOLUTION = os.path.join(DATASET, \"solution.csv\")\n",
    "\n",
    "OUTPUT_PATH = \"output\"\n"
   ]
  },
  {
   "cell_type": "code",
   "execution_count": null,
   "metadata": {},
   "outputs": [],
   "source": [
    "### First POST request\n",
    "\n",
    "response = requests.post(REST_URL + \"/rest\",\n",
    "                         files=[\n",
    "                             ('measurements', ('measurements.csv', open(FILE_MEASUREMENTS, 'rb'), 'application/octet-stream')),\n",
    "                             ('servers', ('servers.csv', open(FILE_SERVERS, 'rb'), 'application/octet-stream')),\n",
    "                             ('solution', ('solution.csv', open(FILE_SOLUTION, 'rb'), 'application/octet-stream'))\n",
    "                         ])\n",
    "\n",
    "if response.status_code != 200:\n",
    "    print(\"Error: received bad response code.\")\n",
    "    exit(-1)\n",
    "\n",
    "print(json.dumps(response.json(), indent=4))"
   ]
  },
  {
   "cell_type": "code",
   "execution_count": null,
   "metadata": {},
   "outputs": [],
   "source": [
    "### Second GET request\n",
    "\n",
    "example_element = response.json()['Assets'][REQUESTED_FILE_NAME]\n",
    "\n",
    "second_response = requests.get(example_element)\n",
    "\n",
    "if second_response.status_code != 200:\n",
    "    print(\"Error: received bad response code.\")\n",
    "    exit(-1)\n",
    "\n",
    "print(second_response.text)\n"
   ]
  },
  {
   "cell_type": "code",
   "execution_count": null,
   "metadata": {},
   "outputs": [],
   "source": [
    "### Save last response to file\n",
    "\n",
    "os.makedirs(OUTPUT_PATH, exist_ok=True)\n",
    "\n",
    "with open(os.path.join(OUTPUT_PATH, REQUESTED_FILE_NAME), 'w', encoding=\"utf-8\") as f:\n",
    "    f.writelines(second_response.text)"
   ]
  }
 ],
 "metadata": {
  "kernelspec": {
   "display_name": "Python 3",
   "language": "python",
   "name": "python3"
  },
  "language_info": {
   "codemirror_mode": {
    "name": "ipython",
    "version": 3
   },
   "file_extension": ".py",
   "mimetype": "text/x-python",
   "name": "python",
   "nbconvert_exporter": "python",
   "pygments_lexer": "ipython3",
   "version": "3.11.7"
  }
 },
 "nbformat": 4,
 "nbformat_minor": 2
}
