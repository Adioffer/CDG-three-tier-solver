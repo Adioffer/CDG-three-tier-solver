{
 "cells": [
  {
   "cell_type": "code",
   "execution_count": 1,
   "metadata": {},
   "outputs": [],
   "source": [
    "import requests\n",
    "import os\n",
    "\n",
    "# Declare constants\n",
    "# REST_URL = \"http://127.0.0.1:5000/uploader\"\n",
    "REST_URL = \"http://127.0.0.1:5000\"\n",
    "\n",
    "DATASETS_PATH = \".\""
   ]
  },
  {
   "cell_type": "markdown",
   "metadata": {},
   "source": [
    "## Use API function"
   ]
  },
  {
   "cell_type": "code",
   "execution_count": 3,
   "metadata": {},
   "outputs": [],
   "source": [
    "REQUESTED_FILE_NAME = \"results.txt\" \n",
    "\n",
    "def use_api(dataset_1p, dataset_3p, method):\n",
    "    output_file = os.path.join(OUTPUT_PATH, f\"results_learn={dataset_1p}_test={dataset_3p}.txt\")\n",
    "    \n",
    "    print(\"start:\", dataset_1p, dataset_3p)\n",
    "    \n",
    "    dataset_1p_path = os.path.join(DATASETS_PATH, dataset_1p)\n",
    "    dataset_3p_path = os.path.join(DATASETS_PATH, dataset_3p)\n",
    "    \n",
    "    FILE_MEASUREMENTS_1P = os.path.join(dataset_1p_path, \"measurements-1party.csv\")\n",
    "    FILE_MEASUREMENTS_3P = os.path.join(dataset_3p_path, \"measurements-3party.csv\")\n",
    "    FILE_SERVERS_1P = os.path.join(dataset_1p_path, \"servers-1party.csv\")\n",
    "    FILE_SERVERS_3P = os.path.join(dataset_3p_path, \"servers-3party.csv\")\n",
    "    FILE_DATACENTERS = os.path.join(dataset_3p_path, \"datacenters.csv\")\n",
    "    FILE_SOLUTION = os.path.join(dataset_3p_path, \"solution.csv\")\n",
    "\n",
    "    response = requests.post(REST_URL + \"/rest\",\n",
    "                             files=[\n",
    "                                 ('measurements-1party', ('measurements-1party.csv', open(FILE_MEASUREMENTS_1P, 'rb'), 'application/octet-stream')),\n",
    "                                 ('servers-1party', ('servers-1party.csv', open(FILE_SERVERS_1P, 'rb'), 'application/octet-stream')),\n",
    "                                 ('measurements-3party', ('measurements-3party.csv', open(FILE_MEASUREMENTS_3P, 'rb'), 'application/octet-stream')),\n",
    "                                 ('servers-3party', ('servers-3party.csv', open(FILE_SERVERS_3P, 'rb'), 'application/octet-stream')),\n",
    "                                 ('datacenters', ('datacenters.csv', open(FILE_DATACENTERS, 'rb'), 'application/octet-stream')),\n",
    "                                 ('solution', ('solution.csv', open(FILE_SOLUTION, 'rb'), 'application/octet-stream'))\n",
    "                                #  ('method', method)\n",
    "                             ],\n",
    "                             data={'method': method})\n",
    "\n",
    "    if response.status_code != 200:\n",
    "        print(\"Error: POST received bad response code:\", response.status_code)\n",
    "        return\n",
    "\n",
    "    requested_file_url = response.json()['Assets'][REQUESTED_FILE_NAME]\n",
    "    print(requested_file_url)\n",
    "\n",
    "    second_response = requests.get(requested_file_url)\n",
    "\n",
    "    if second_response.status_code != 200:\n",
    "        print(\"Error: GET received bad response code:\", response.status_code)\n",
    "        return\n",
    "\n",
    "    with open(output_file, 'w', encoding=\"utf-8\") as f:\n",
    "        f.writelines(second_response.text)"
   ]
  },
  {
   "cell_type": "code",
   "execution_count": 38,
   "metadata": {},
   "outputs": [
    {
     "name": "stdout",
     "output_type": "stream",
     "text": [
      "start: DS-B1 DS-B1\n",
      "http://127.0.0.1:5000/GetFile/tmp5iahdavf/output/results.txt\n",
      "start: DS-B1 DS-F1\n",
      "http://127.0.0.1:5000/GetFile/tmpawmrs6l5/output/results.txt\n",
      "start: DS-B1 DS-F2\n",
      "http://127.0.0.1:5000/GetFile/tmpync6168i/output/results.txt\n",
      "start: DS-B1 DS-F3\n",
      "http://127.0.0.1:5000/GetFile/tmpaimkyt18/output/results.txt\n",
      "start: DS-B1 DS-F4\n",
      "http://127.0.0.1:5000/GetFile/tmp9ya4_3ai/output/results.txt\n",
      "start: DS-F1 DS-B1\n",
      "Error: POST received bad response code: 500\n",
      "start: DS-F1 DS-F1\n",
      "http://127.0.0.1:5000/GetFile/tmp6obr77yq/output/results.txt\n",
      "start: DS-F1 DS-F2\n",
      "http://127.0.0.1:5000/GetFile/tmpq7um9zkz/output/results.txt\n",
      "start: DS-F1 DS-F3\n",
      "http://127.0.0.1:5000/GetFile/tmpsdzcbv67/output/results.txt\n",
      "start: DS-F1 DS-F4\n",
      "http://127.0.0.1:5000/GetFile/tmpeok2azxw/output/results.txt\n",
      "start: DS-F2 DS-B1\n",
      "Error: POST received bad response code: 500\n",
      "start: DS-F2 DS-F1\n",
      "http://127.0.0.1:5000/GetFile/tmpvejfdd8i/output/results.txt\n",
      "start: DS-F2 DS-F2\n",
      "http://127.0.0.1:5000/GetFile/tmpyc4qxvyo/output/results.txt\n",
      "start: DS-F2 DS-F3\n",
      "http://127.0.0.1:5000/GetFile/tmplrsmf282/output/results.txt\n",
      "start: DS-F2 DS-F4\n",
      "http://127.0.0.1:5000/GetFile/tmp0kixcssc/output/results.txt\n",
      "start: DS-F3 DS-B1\n",
      "Error: POST received bad response code: 500\n",
      "start: DS-F3 DS-F1\n",
      "http://127.0.0.1:5000/GetFile/tmpdunrd_dx/output/results.txt\n",
      "start: DS-F3 DS-F2\n",
      "http://127.0.0.1:5000/GetFile/tmpq79fj8ms/output/results.txt\n",
      "start: DS-F3 DS-F3\n",
      "http://127.0.0.1:5000/GetFile/tmpztyd4uun/output/results.txt\n",
      "start: DS-F3 DS-F4\n",
      "http://127.0.0.1:5000/GetFile/tmpv64ceep8/output/results.txt\n",
      "start: DS-F4 DS-B1\n",
      "Error: POST received bad response code: 500\n",
      "start: DS-F4 DS-F1\n",
      "http://127.0.0.1:5000/GetFile/tmptb0cxhd9/output/results.txt\n",
      "start: DS-F4 DS-F2\n",
      "http://127.0.0.1:5000/GetFile/tmpf_nc20fo/output/results.txt\n",
      "start: DS-F4 DS-F3\n",
      "http://127.0.0.1:5000/GetFile/tmpqyp2zn83/output/results.txt\n",
      "start: DS-F4 DS-F4\n",
      "http://127.0.0.1:5000/GetFile/tmpud6ybeud/output/results.txt\n"
     ]
    }
   ],
   "source": [
    "OUTPUT_PATH = \"out/subtraction\"\n",
    "method = \"subtraction\"\n",
    "# OUTPUT_PATH = \"out/optimizer\"\n",
    "# method = \"optimizer\"\n",
    "\n",
    "DATASETS = [\"DS-B1\", \"DS-F1\", \"DS-F2\", \"DS-F3\", \"DS-F4\", ]\n",
    "# DATASETS = [\"DS-B1\", \"DS-B1-V1\", \"DS-B1-V2\"]\n",
    "\n",
    "for d1 in DATASETS:\n",
    "    for d2 in DATASETS:\n",
    "        use_api(dataset_1p=d1, dataset_3p=d2, method=method)"
   ]
  },
  {
   "cell_type": "code",
   "execution_count": 9,
   "metadata": {},
   "outputs": [
    {
     "name": "stdout",
     "output_type": "stream",
     "text": [
      "start: DS-F4 DS-F4\n",
      "http://127.0.0.1:5000/GetFile/tmp31nnw3q9/output/results.txt\n"
     ]
    }
   ],
   "source": [
    "OUTPUT_PATH = \"out/tmp\"\n",
    "# method = \"optimizer\"\n",
    "method = \"subtraction\"\n",
    "\n",
    "use_api(dataset_1p=\"DS-F4\", dataset_3p=\"DS-F4\", method=method)\n"
   ]
  }
 ],
 "metadata": {
  "kernelspec": {
   "display_name": "Python 3",
   "language": "python",
   "name": "python3"
  },
  "language_info": {
   "codemirror_mode": {
    "name": "ipython",
    "version": 3
   },
   "file_extension": ".py",
   "mimetype": "text/x-python",
   "name": "python",
   "nbconvert_exporter": "python",
   "pygments_lexer": "ipython3",
   "version": "3.12.4"
  }
 },
 "nbformat": 4,
 "nbformat_minor": 2
}
